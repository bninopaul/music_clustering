{
 "cells": [
  {
   "cell_type": "code",
   "execution_count": 1,
   "metadata": {
    "collapsed": false
   },
   "outputs": [],
   "source": [
    "%matplotlib inline\n",
    "data = pd.read_pickle(\"../others/songs_paul.pkl\")"
   ]
  },
  {
   "cell_type": "code",
   "execution_count": 2,
   "metadata": {
    "collapsed": false
   },
   "outputs": [
    {
     "data": {
      "text/html": [
       "<div style=\"max-height:1000px;max-width:1500px;overflow:auto;\">\n",
       "<table border=\"1\" class=\"dataframe\">\n",
       "  <thead>\n",
       "    <tr style=\"text-align: right;\">\n",
       "      <th></th>\n",
       "      <th>artist</th>\n",
       "      <th>song</th>\n",
       "      <th>signal</th>\n",
       "      <th>sample_rate</th>\n",
       "      <th>channel</th>\n",
       "    </tr>\n",
       "  </thead>\n",
       "  <tbody>\n",
       "    <tr>\n",
       "      <th>0</th>\n",
       "      <td> Pink</td>\n",
       "      <td>      Are We All We Are</td>\n",
       "      <td> [0, 0, 0, 0, 0, 0, 0, 0, 0, 0, 0, 0, 0, 0, 0, ...</td>\n",
       "      <td> 44100</td>\n",
       "      <td> 2</td>\n",
       "    </tr>\n",
       "    <tr>\n",
       "      <th>1</th>\n",
       "      <td> Pink</td>\n",
       "      <td> Blow Me  One Last Kiss</td>\n",
       "      <td> [-9, -14, -10, -9, -11, -11, -9, -12, -11, -10...</td>\n",
       "      <td> 44100</td>\n",
       "      <td> 2</td>\n",
       "    </tr>\n",
       "    <tr>\n",
       "      <th>2</th>\n",
       "      <td> Pink</td>\n",
       "      <td>                    Try</td>\n",
       "      <td> [0, 0, 0, 0, 0, 0, 0, 0, 0, 0, 0, 0, 0, 0, 0, ...</td>\n",
       "      <td> 44100</td>\n",
       "      <td> 2</td>\n",
       "    </tr>\n",
       "    <tr>\n",
       "      <th>3</th>\n",
       "      <td> Pink</td>\n",
       "      <td>  Just Give Me A Reason</td>\n",
       "      <td> [0, 0, 0, 0, 0, 0, 0, 0, 0, 0, 0, 0, 0, 0, 0, ...</td>\n",
       "      <td> 44100</td>\n",
       "      <td> 2</td>\n",
       "    </tr>\n",
       "    <tr>\n",
       "      <th>4</th>\n",
       "      <td> Pink</td>\n",
       "      <td>              True Love</td>\n",
       "      <td> [0, 0, 0, 0, 0, 0, 0, 0, 0, 0, 0, 0, 0, 0, 0, ...</td>\n",
       "      <td> 44100</td>\n",
       "      <td> 2</td>\n",
       "    </tr>\n",
       "  </tbody>\n",
       "</table>\n",
       "</div>"
      ],
      "text/plain": [
       "  artist                    song  \\\n",
       "0   Pink       Are We All We Are   \n",
       "1   Pink  Blow Me  One Last Kiss   \n",
       "2   Pink                     Try   \n",
       "3   Pink   Just Give Me A Reason   \n",
       "4   Pink               True Love   \n",
       "\n",
       "                                              signal  sample_rate  channel  \n",
       "0  [0, 0, 0, 0, 0, 0, 0, 0, 0, 0, 0, 0, 0, 0, 0, ...        44100        2  \n",
       "1  [-9, -14, -10, -9, -11, -11, -9, -12, -11, -10...        44100        2  \n",
       "2  [0, 0, 0, 0, 0, 0, 0, 0, 0, 0, 0, 0, 0, 0, 0, ...        44100        2  \n",
       "3  [0, 0, 0, 0, 0, 0, 0, 0, 0, 0, 0, 0, 0, 0, 0, ...        44100        2  \n",
       "4  [0, 0, 0, 0, 0, 0, 0, 0, 0, 0, 0, 0, 0, 0, 0, ...        44100        2  "
      ]
     },
     "execution_count": 2,
     "metadata": {},
     "output_type": "execute_result"
    }
   ],
   "source": [
    "data.head()"
   ]
  },
  {
   "cell_type": "code",
   "execution_count": 3,
   "metadata": {
    "collapsed": false
   },
   "outputs": [
    {
     "name": "stdout",
     "output_type": "stream",
     "text": [
      "Populating the interactive namespace from numpy and matplotlib\n"
     ]
    },
    {
     "data": {
      "text/html": [
       "\n",
       "    <head>\n",
       "    <meta http-equiv=\"Content-Type\" content=\"text/html; charset=utf-8\">\n",
       "    <title>Simple Test</title>\n",
       "    </head>\n",
       "\n",
       "    <body>\n",
       "    <audio controls=\"controls\" style=\"width:600px\" >\n",
       "      <source src=\"files/sample.wav\" type=\"audio/wav\" />\n",
       "      Your browser does not support the audio element.\n",
       "    </audio>\n",
       "    </body>\n",
       "    "
      ],
      "text/plain": [
       "<IPython.core.display.HTML object>"
      ]
     },
     "metadata": {},
     "output_type": "display_data"
    },
    {
     "name": "stdout",
     "output_type": "stream",
     "text": [
      "Song: Echoes\n",
      "Artist: Bo Bruce\n"
     ]
    }
   ],
   "source": [
    "%pylab inline\n",
    "from utils import wavfilePlayer\n",
    "from scipy.io import wavfile\n",
    "index = 410\n",
    "wavfile.write(\"sample.wav\", data.ix[index]['sample_rate'], data.ix[index]['signal'])\n",
    "display(wavfilePlayer.wavPlayer(\"sample.wav\"))\n",
    "print \"Song: {}\\nArtist: {}\".format(data.ix[index]['song'], data.ix[index]['artist'])"
   ]
  },
  {
   "cell_type": "code",
   "execution_count": 4,
   "metadata": {
    "collapsed": false
   },
   "outputs": [
    {
     "data": {
      "text/plain": [
       "[<matplotlib.lines.Line2D at 0x39a0d6510>]"
      ]
     },
     "execution_count": 4,
     "metadata": {},
     "output_type": "execute_result"
    },
    {
     "data": {
      "image/png": "[encoded data removed]",
      "text/plain": [
       "<matplotlib.figure.Figure at 0x10ee78390>"
      ]
     },
     "metadata": {},
     "output_type": "display_data"
    }
   ],
   "source": [
    "sample = data.ix[index]['signal']\n",
    "rate = data.ix[index]['sample_rate']\n",
    "plt.figure(figsize = (20, 5))\n",
    "plt.plot(sample[:1000000])"
   ]
  },
  {
   "cell_type": "code",
   "execution_count": 5,
   "metadata": {
    "collapsed": true
   },
   "outputs": [],
   "source": [
    "def segment_music(df,num_secs):\n",
    "    segments = []\n",
    "    for i in df.index:\n",
    "        song = df.ix[i]['signal']\n",
    "        num_pts = df.ix[i]['sample_rate']*num_secs\n",
    "        trimmed = np.trim_zeros(song)\n",
    "        while np.all(trimmed[:10])==False:\n",
    "            trimmed = trimmed[5:]\n",
    "        while np.all(trimmed[-10:])==False:\n",
    "            trimmed = trimmed[:-5]\n",
    "        seg_beg = trimmed[:num_pts]\n",
    "        seg_mid = trimmed[int(trimmed.shape[0]/2)-(num_pts/2):int(trimmed.shape[0]/2)+(num_pts/2)]\n",
    "        seg_end = trimmed[-num_pts:]\n",
    "        \n",
    "        segments.append([seg_beg,seg_mid,seg_end])\n",
    "    return segments"
   ]
  },
  {
   "cell_type": "code",
   "execution_count": 6,
   "metadata": {
    "collapsed": false
   },
   "outputs": [
    {
     "name": "stdout",
     "output_type": "stream",
     "text": [
      "CPU times: user 28.9 s, sys: 26.9 s, total: 55.8 s\n",
      "Wall time: 3min 17s\n"
     ]
    }
   ],
   "source": [
    "%%time\n",
    "segments = segment_music(data, 30)\n",
    "data['segment_beg'] = map(lambda x: x[0].astype(int), segments)\n",
    "data['segment_mid'] = map(lambda x: x[1].astype(int), segments)\n",
    "data['segment_end'] = map(lambda x: x[2].astype(int), segments)"
   ]
  },
  {
   "cell_type": "code",
   "execution_count": 7,
   "metadata": {
    "collapsed": false
   },
   "outputs": [
    {
     "data": {
      "text/html": [
       "<div style=\"max-height:1000px;max-width:1500px;overflow:auto;\">\n",
       "<table border=\"1\" class=\"dataframe\">\n",
       "  <thead>\n",
       "    <tr style=\"text-align: right;\">\n",
       "      <th></th>\n",
       "      <th>artist</th>\n",
       "      <th>song</th>\n",
       "      <th>signal</th>\n",
       "      <th>sample_rate</th>\n",
       "      <th>channel</th>\n",
       "      <th>segment_beg</th>\n",
       "      <th>segment_mid</th>\n",
       "      <th>segment_end</th>\n",
       "    </tr>\n",
       "  </thead>\n",
       "  <tbody>\n",
       "    <tr>\n",
       "      <th>0</th>\n",
       "      <td> Pink</td>\n",
       "      <td>      Are We All We Are</td>\n",
       "      <td> [0, 0, 0, 0, 0, 0, 0, 0, 0, 0, 0, 0, 0, 0, 0, ...</td>\n",
       "      <td> 44100</td>\n",
       "      <td> 2</td>\n",
       "      <td> [1, 1, 1, 1, 1, 1, 1, 1, 1, 1, 0, 1, 1, 1, 2, ...</td>\n",
       "      <td> [809, 903, 417, -201, -177, -333, -995, -1688,...</td>\n",
       "      <td> [16448, 17526, 18439, 17593, 13771, 8368, 3233...</td>\n",
       "    </tr>\n",
       "    <tr>\n",
       "      <th>1</th>\n",
       "      <td> Pink</td>\n",
       "      <td> Blow Me  One Last Kiss</td>\n",
       "      <td> [-9, -14, -10, -9, -11, -11, -9, -12, -11, -10...</td>\n",
       "      <td> 44100</td>\n",
       "      <td> 2</td>\n",
       "      <td> [-9, -14, -10, -9, -11, -11, -9, -12, -11, -10...</td>\n",
       "      <td> [10569, 5250, 279, 2198, 5924, 3850, -2975, -9...</td>\n",
       "      <td> [4325, 10096, 14250, 9580, 3494, 3670, 6913, 1...</td>\n",
       "    </tr>\n",
       "    <tr>\n",
       "      <th>2</th>\n",
       "      <td> Pink</td>\n",
       "      <td>                    Try</td>\n",
       "      <td> [0, 0, 0, 0, 0, 0, 0, 0, 0, 0, 0, 0, 0, 0, 0, ...</td>\n",
       "      <td> 44100</td>\n",
       "      <td> 2</td>\n",
       "      <td> [-2, -1, -1, -2, -1, 1, -1, 1, -1, 1, 1, 0, 0,...</td>\n",
       "      <td> [2739, 1973, 1015, 95, -202, -238, -200, -94, ...</td>\n",
       "      <td> [5988, 3302, 3242, 5465, 6914, 6744, 6358, 825...</td>\n",
       "    </tr>\n",
       "    <tr>\n",
       "      <th>3</th>\n",
       "      <td> Pink</td>\n",
       "      <td>  Just Give Me A Reason</td>\n",
       "      <td> [0, 0, 0, 0, 0, 0, 0, 0, 0, 0, 0, 0, 0, 0, 0, ...</td>\n",
       "      <td> 44100</td>\n",
       "      <td> 2</td>\n",
       "      <td> [-2, -2, -1, 1, 1, -2, -1, -3, -3, -1, -2, -1,...</td>\n",
       "      <td> [-2535, -2845, -3301, -4150, -4906, -5295, -55...</td>\n",
       "      <td> [-9430, -6699, -3657, -452, 2889, 6250, 9652, ...</td>\n",
       "    </tr>\n",
       "    <tr>\n",
       "      <th>4</th>\n",
       "      <td> Pink</td>\n",
       "      <td>              True Love</td>\n",
       "      <td> [0, 0, 0, 0, 0, 0, 0, 0, 0, 0, 0, 0, 0, 0, 0, ...</td>\n",
       "      <td> 44100</td>\n",
       "      <td> 2</td>\n",
       "      <td> [2, 2, 2, 2, 1, 2, 2, 2, 2, 1, 2, 2, 2, 2, 3, ...</td>\n",
       "      <td> [-16230, -12410, -13635, -11647, -9389, -17166...</td>\n",
       "      <td> [18431, 24020, 31532, 32767, 27869, 25101, 263...</td>\n",
       "    </tr>\n",
       "  </tbody>\n",
       "</table>\n",
       "</div>"
      ],
      "text/plain": [
       "  artist                    song  \\\n",
       "0   Pink       Are We All We Are   \n",
       "1   Pink  Blow Me  One Last Kiss   \n",
       "2   Pink                     Try   \n",
       "3   Pink   Just Give Me A Reason   \n",
       "4   Pink               True Love   \n",
       "\n",
       "                                              signal  sample_rate  channel  \\\n",
       "0  [0, 0, 0, 0, 0, 0, 0, 0, 0, 0, 0, 0, 0, 0, 0, ...        44100        2   \n",
       "1  [-9, -14, -10, -9, -11, -11, -9, -12, -11, -10...        44100        2   \n",
       "2  [0, 0, 0, 0, 0, 0, 0, 0, 0, 0, 0, 0, 0, 0, 0, ...        44100        2   \n",
       "3  [0, 0, 0, 0, 0, 0, 0, 0, 0, 0, 0, 0, 0, 0, 0, ...        44100        2   \n",
       "4  [0, 0, 0, 0, 0, 0, 0, 0, 0, 0, 0, 0, 0, 0, 0, ...        44100        2   \n",
       "\n",
       "                                         segment_beg  \\\n",
       "0  [1, 1, 1, 1, 1, 1, 1, 1, 1, 1, 0, 1, 1, 1, 2, ...   \n",
       "1  [-9, -14, -10, -9, -11, -11, -9, -12, -11, -10...   \n",
       "2  [-2, -1, -1, -2, -1, 1, -1, 1, -1, 1, 1, 0, 0,...   \n",
       "3  [-2, -2, -1, 1, 1, -2, -1, -3, -3, -1, -2, -1,...   \n",
       "4  [2, 2, 2, 2, 1, 2, 2, 2, 2, 1, 2, 2, 2, 2, 3, ...   \n",
       "\n",
       "                                         segment_mid  \\\n",
       "0  [809, 903, 417, -201, -177, -333, -995, -1688,...   \n",
       "1  [10569, 5250, 279, 2198, 5924, 3850, -2975, -9...   \n",
       "2  [2739, 1973, 1015, 95, -202, -238, -200, -94, ...   \n",
       "3  [-2535, -2845, -3301, -4150, -4906, -5295, -55...   \n",
       "4  [-16230, -12410, -13635, -11647, -9389, -17166...   \n",
       "\n",
       "                                         segment_end  \n",
       "0  [16448, 17526, 18439, 17593, 13771, 8368, 3233...  \n",
       "1  [4325, 10096, 14250, 9580, 3494, 3670, 6913, 1...  \n",
       "2  [5988, 3302, 3242, 5465, 6914, 6744, 6358, 825...  \n",
       "3  [-9430, -6699, -3657, -452, 2889, 6250, 9652, ...  \n",
       "4  [18431, 24020, 31532, 32767, 27869, 25101, 263...  "
      ]
     },
     "execution_count": 7,
     "metadata": {},
     "output_type": "execute_result"
    }
   ],
   "source": [
    "data.head()"
   ]
  },
  {
   "cell_type": "markdown",
   "metadata": {},
   "source": [
    "### Features"
   ]
  },
  {
   "cell_type": "code",
   "execution_count": 8,
   "metadata": {
    "collapsed": false
   },
   "outputs": [
    {
     "name": "stderr",
     "output_type": "stream",
     "text": [
      "/usr/local/lib/python2.7/site-packages/librosa/core/audio.py:33: UserWarning: Could not import scikits.samplerate. Falling back to scipy.signal\n",
      "  warnings.warn('Could not import scikits.samplerate. '\n"
     ]
    }
   ],
   "source": [
    "import librosa as lb"
   ]
  },
  {
   "cell_type": "code",
   "execution_count": 9,
   "metadata": {
    "collapsed": true
   },
   "outputs": [],
   "source": [
    "def _partition(signal, window_length, jump):\n",
    "    \"\"\"\n",
    "    Params:\n",
    "    signal: (one-dimensional array)\n",
    "    window_length: (int) size of the window/frame\n",
    "    jump: (int) length of distance between windows/frames\n",
    "    \n",
    "    Return:\n",
    "    partitions: (list) list of partitioned windows/frames of length window_length and \n",
    "    \"\"\"\n",
    "    signal_length = len(signal)\n",
    "    signal_index = range(signal_length - window_length)\n",
    "    beg_index = np.array(filter(lambda x: x%jump==0, signal_index))\n",
    "    end_index = beg_index + window_length\n",
    "    zipped = zip(beg_index, end_index)\n",
    "    \n",
    "    partitions = [signal[i[0]:i[1]] for i in zipped]\n",
    "    return partitions"
   ]
  },
  {
   "cell_type": "markdown",
   "metadata": {},
   "source": [
    "Spectral Centroid"
   ]
  },
  {
   "cell_type": "code",
   "execution_count": 10,
   "metadata": {
    "collapsed": false
   },
   "outputs": [],
   "source": [
    "#Source: https://en.wikipedia.org/wiki/Spectral_centroid\n",
    "def _spectral_centroid(signal, rate):\n",
    "    \"\"\"\n",
    "    Params:\n",
    "    signal: (one-dimensional array)\n",
    "    rate: (int) sampling rate of the audio signal\n",
    "\n",
    "    Return:\n",
    "    spectral_centroid:(float) \n",
    "    \"\"\"\n",
    "    fft_mag = np.abs(np.fft.rfft(signal))\n",
    "    freq = np.fft.rfftfreq(len(signal), 1/rate)\n",
    "    spectral_centroid = np.dot(fft_mag, freq)/sum(fft_mag)\n",
    "    return spectral_centroid\n",
    "\n",
    "def spectral_centroid_meanstd(signal, rate, window_length, jump):\n",
    "    \"\"\"\n",
    "    Params:\n",
    "    signal:(one-dimensional array)\n",
    "    rate: (int) sampling rate of the audio signal\n",
    "    window_length: (int) see _partition()\n",
    "    jump: (int) see_partition()\n",
    "    \n",
    "    Return:\n",
    "    centroid_mean: (float) mean of the spectral centroids of a signal\n",
    "    centroid_std: (float) standard deviation of the spectral centroids of a signal\n",
    "    \"\"\"\n",
    "    partitions = _partition(signal, window_length, jump)\n",
    "    centroids = map(lambda x: _spectral_centroid(x, rate), partitions)\n",
    "    centroid_mean = np.mean(centroids)\n",
    "    centroid_std = np.std(centroids)\n",
    "    return centroid_mean, centroid_std"
   ]
  },
  {
   "cell_type": "code",
   "execution_count": 11,
   "metadata": {
    "collapsed": false
   },
   "outputs": [
    {
     "name": "stdout",
     "output_type": "stream",
     "text": [
      "CPU times: user 4.11 s, sys: 724 ms, total: 4.83 s\n",
      "Wall time: 6.84 s\n"
     ]
    },
    {
     "data": {
      "text/plain": [
       "(2954.918704006654, 1401.9750078042148)"
      ]
     },
     "execution_count": 11,
     "metadata": {},
     "output_type": "execute_result"
    }
   ],
   "source": [
    "%%time\n",
    "spectral_centroid_meanstd(sample, rate, rate, rate)"
   ]
  },
  {
   "cell_type": "code",
   "execution_count": 12,
   "metadata": {
    "collapsed": false
   },
   "outputs": [
    {
     "name": "stdout",
     "output_type": "stream",
     "text": [
      "2855.33390174 1546.22475188\n",
      "CPU times: user 567 ms, sys: 95.6 ms, total: 662 ms\n",
      "Wall time: 683 ms\n"
     ]
    }
   ],
   "source": [
    "%%time\n",
    "spec_centroid = lb.feature.spectral_centroid(sample, sr = rate, n_fft=rate, hop_length=rate)\n",
    "print spec_centroid.mean(), spec_centroid.std()"
   ]
  },
  {
   "cell_type": "markdown",
   "metadata": {},
   "source": [
    "Spectral Roll Off"
   ]
  },
  {
   "cell_type": "code",
   "execution_count": 13,
   "metadata": {
    "collapsed": true
   },
   "outputs": [],
   "source": [
    "#Source: http://webhome.csc.uvic.ca/~gtzan/output/tsap02gtzan.pdf\n",
    "def _spectral_rolloff(signal):\n",
    "    \"\"\"\n",
    "    Params:\n",
    "    signal: (one-dimensional array)\n",
    "    \n",
    "    Return:\n",
    "    spectral_rolloff: (float) spectral roll-off of the signal\n",
    "    \"\"\"\n",
    "    fft_mag = np.abs(np.fft.rfft(signal))\n",
    "    dist85 = 0.85*sum(fft_mag)\n",
    "    cumsum = np.cumsum(fft_mag)\n",
    "    lessdist85 = cumsum<dist85\n",
    "    spectral_rolloff = np.sum(lessdist85)\n",
    "    return spectral_rolloff\n",
    "def spectral_rolloff_meanstd(signal, window_length, jump):\n",
    "    \"\"\"\n",
    "    Params:\n",
    "    signal: (one-dimensional array)\n",
    "    window_length: (int) see _partition()\n",
    "    jump: (int) see _partition()\n",
    "    \n",
    "    Return:\n",
    "    roll_off_mean: (float) mean of the spectral roll-offs of the windows generated from the signal\n",
    "    roll_off_std: (float) standard deviation of the spectral roll-offs of the windows generated from the signal\n",
    "    \"\"\"\n",
    "    partitions = _partition(signal, window_length, jump)\n",
    "    roll_offs = map(lambda x: _spectral_rolloff(x), partitions)\n",
    "    roll_off_mean = np.mean(roll_offs)\n",
    "    roll_off_std = np.std(roll_offs)\n",
    "    return roll_off_mean, roll_off_std"
   ]
  },
  {
   "cell_type": "code",
   "execution_count": 14,
   "metadata": {
    "collapsed": false
   },
   "outputs": [
    {
     "name": "stdout",
     "output_type": "stream",
     "text": [
      "CPU times: user 3.7 s, sys: 84.8 ms, total: 3.78 s\n",
      "Wall time: 3.83 s\n"
     ]
    },
    {
     "data": {
      "text/plain": [
       "(7240.782608695652, 4027.3020179824321)"
      ]
     },
     "execution_count": 14,
     "metadata": {},
     "output_type": "execute_result"
    }
   ],
   "source": [
    "%%time\n",
    "spectral_rolloff_meanstd(sample, rate, rate)"
   ]
  },
  {
   "cell_type": "code",
   "execution_count": 15,
   "metadata": {
    "collapsed": false
   },
   "outputs": [
    {
     "name": "stdout",
     "output_type": "stream",
     "text": [
      "7078.96969697 4165.13089071\n",
      "CPU times: user 523 ms, sys: 56.9 ms, total: 580 ms\n",
      "Wall time: 586 ms\n"
     ]
    }
   ],
   "source": [
    "%%time\n",
    "roll_off = lb.feature.spectral_rolloff(sample, sr = rate, n_fft = rate, hop_length=rate)\n",
    "print roll_off.mean(), roll_off.std()"
   ]
  },
  {
   "cell_type": "markdown",
   "metadata": {},
   "source": [
    "Spectral Flow/Spectral Flux"
   ]
  },
  {
   "cell_type": "code",
   "execution_count": 16,
   "metadata": {
    "collapsed": false
   },
   "outputs": [],
   "source": [
    "#Source: http://webhome.csc.uvic.ca/~gtzan/output/tsap02gtzan.pdf\n",
    "#spectral flow and spectral flux are the same thing.\n",
    "def spectral_flow_meanstd(signal, window_length, jump):\n",
    "    \"\"\"\n",
    "    Params:\n",
    "    signal: (one-dimensional array)\n",
    "    window_length: (int) see _partition()\n",
    "    jump: (int) see _partition()\n",
    "    \n",
    "    Return:\n",
    "    flow_mean: (float) mean of the spectral flow of the signal\n",
    "    flow_std: (float) standard deviation of the spectral flow of the signal\n",
    "    \"\"\"\n",
    "    partitions = _partition(signal, window_length, jump)\n",
    "    normalized_partitions = map(lambda x: x.astype(int)/np.linalg.norm(x.astype(int)), partitions)\n",
    "    Nt = np.array(normalized_partitions[1:])\n",
    "    Nt1 = np.array(normalized_partitions[:len(normalized_partitions)-1])\n",
    "    Ft = np.sum((Nt - Nt1)**2, axis = 1)\n",
    "    flow_mean = Ft.mean()\n",
    "    flow_std = Ft.std()\n",
    "    return flow_mean, flow_std\n",
    "    "
   ]
  },
  {
   "cell_type": "code",
   "execution_count": 17,
   "metadata": {
    "collapsed": false
   },
   "outputs": [
    {
     "name": "stdout",
     "output_type": "stream",
     "text": [
      "CPU times: user 3.34 s, sys: 189 ms, total: 3.53 s\n",
      "Wall time: 3.55 s\n"
     ]
    },
    {
     "data": {
      "text/plain": [
       "(2.0071135900237427, 0.24234006696407315)"
      ]
     },
     "execution_count": 17,
     "metadata": {},
     "output_type": "execute_result"
    }
   ],
   "source": [
    "%%time\n",
    "spectral_flow_meanstd(sample, rate, rate)"
   ]
  },
  {
   "cell_type": "markdown",
   "metadata": {},
   "source": [
    "Zero-Crossing Rate Mean"
   ]
  },
  {
   "cell_type": "code",
   "execution_count": 18,
   "metadata": {
    "collapsed": true
   },
   "outputs": [],
   "source": [
    "#Source: http://webhome.csc.uvic.ca/~gtzan/output/tsap02gtzan.pdf\n",
    "def zero_crossing_rate_meanstd(signal, window_length, jump):\n",
    "    \"\"\"\n",
    "    Params:\n",
    "    signal: (one-dimensional array)\n",
    "    window_length: (int) see _partition()\n",
    "    jump: (int) see _partition()\n",
    "    \n",
    "    Return:\n",
    "    zero_crossing_rate_mean: (float) mean of the zero crossing rates of the windows\n",
    "    zero_crossing_rate_std: (float) standard deviation of the zero crossing rates of the windows\n",
    "    \"\"\"\n",
    "    \n",
    "    partitions = np.array(_partition(signal, window_length, jump))\n",
    "    m,n = partitions.shape\n",
    "    sign, sign1 = partitions[:, 1:]>0, partitions[:, :n-1]>0\n",
    "    zero_crossing_rate  = (np.sum(np.abs(sign - sign1), axis = 1))/n\n",
    "    zero_crossing_rate_mean = zero_crossing_rate.mean()\n",
    "    zero_crossing_rate_std = zero_crossing_rate.std()\n",
    "    return zero_crossing_rate_mean, zero_crossing_rate_std"
   ]
  },
  {
   "cell_type": "code",
   "execution_count": 19,
   "metadata": {
    "collapsed": false
   },
   "outputs": [
    {
     "name": "stdout",
     "output_type": "stream",
     "text": [
      "CPU times: user 3.46 s, sys: 102 ms, total: 3.56 s\n",
      "Wall time: 3.62 s\n"
     ]
    },
    {
     "data": {
      "text/plain": [
       "(0.034392388839593807, 0.018680015919611881)"
      ]
     },
     "execution_count": 19,
     "metadata": {},
     "output_type": "execute_result"
    }
   ],
   "source": [
    "%%time\n",
    "zero_crossing_rate_meanstd(sample, rate, rate)"
   ]
  },
  {
   "cell_type": "code",
   "execution_count": 20,
   "metadata": {
    "collapsed": false
   },
   "outputs": [
    {
     "name": "stdout",
     "output_type": "stream",
     "text": [
      "0.0349333961579 0.0196877716621\n",
      "CPU times: user 185 ms, sys: 66.3 ms, total: 251 ms\n",
      "Wall time: 254 ms\n"
     ]
    }
   ],
   "source": [
    "%%time\n",
    "zero_crossing_rate = lb.feature.zero_crossing_rate(sample, rate, rate)\n",
    "print zero_crossing_rate.mean(), zero_crossing_rate.std()"
   ]
  },
  {
   "cell_type": "markdown",
   "metadata": {},
   "source": [
    "Low Energy "
   ]
  },
  {
   "cell_type": "code",
   "execution_count": 21,
   "metadata": {
    "collapsed": true
   },
   "outputs": [],
   "source": [
    "def rms_energy(signal):\n",
    "    \"\"\"\n",
    "    Params:\n",
    "    signal: (one-dimensional array)\n",
    "    \n",
    "    Return:\n",
    "    rmsenergy: (float) root mean square energy of the signal\n",
    "    \"\"\"\n",
    "    \n",
    "    rmsenergy = np.sqrt(np.mean(signal**2))\n",
    "    return rmsenergy"
   ]
  },
  {
   "cell_type": "code",
   "execution_count": 22,
   "metadata": {
    "collapsed": false
   },
   "outputs": [],
   "source": [
    "#Source(definition of RMS energy): http://blog.prosig.com/2015/01/06/rms-from-time-history-and-fft-spectrum/\n",
    "#SOurce(definition of low energy feature): \n",
    "def lowenergy_feature(signal, aw_windowlength, tw_windowlength, jump):\n",
    "    \"\"\"\n",
    "    Params:\n",
    "    signal: (one-dimensional array)\n",
    "    aw_windowlength: (int) window length of the analysis windows\n",
    "    tw_windowlength: (int) window length of the texture windows\n",
    "    jump: (int) see _partition()\n",
    "    \n",
    "    Return:\n",
    "    lowenergy_percentage: (float) between 0-1,the percentage of analysis windows that have less\n",
    "                            RMS energy than the average RMS energy across the texture window\n",
    "    \"\"\"\n",
    "    if tw_windowlength< aw_windowlength:\n",
    "        raise ValueError\n",
    "    signal = signal.astype(int)\n",
    "    partitions_analysis = _partition(signal, aw_windowlength, jump)\n",
    "    partitions_texture = _partition(signal, tw_windowlength, jump)\n",
    "    rmsenergy_analysis = map(lambda x: rms_energy(x), partitions_analysis)\n",
    "    rmsenergy_texture = map(lambda x: rms_energy(x), partitions_texture)\n",
    "    ave_rmsenergy_texture = np.mean(rmsenergy_texture)\n",
    "    lowenergy_percentage = np.mean(rmsenergy_analysis<ave_rmsenergy_texture)\n",
    "    return lowenergy_percentage"
   ]
  },
  {
   "cell_type": "code",
   "execution_count": 31,
   "metadata": {
    "collapsed": false
   },
   "outputs": [
    {
     "name": "stdout",
     "output_type": "stream",
     "text": [
      "CPU times: user 3.66 s, sys: 612 ms, total: 4.28 s\n",
      "Wall time: 4.63 s\n"
     ]
    },
    {
     "data": {
      "text/plain": [
       "0.33628318584070799"
      ]
     },
     "execution_count": 31,
     "metadata": {},
     "output_type": "execute_result"
    }
   ],
   "source": [
    "%%time\n",
    "lowenergy_feature(sample, rate*5, rate*10, rate)"
   ]
  },
  {
   "cell_type": "markdown",
   "metadata": {},
   "source": [
    "### Cythonize the Functions"
   ]
  },
  {
   "cell_type": "code",
   "execution_count": 24,
   "metadata": {
    "collapsed": true
   },
   "outputs": [],
   "source": [
    "#the cython functions are stored in cython_func module\n",
    "from utils import cython_func as cf"
   ]
  },
  {
   "cell_type": "code",
   "execution_count": 27,
   "metadata": {
    "collapsed": false
   },
   "outputs": [
    {
     "name": "stdout",
     "output_type": "stream",
     "text": [
      "CPU times: user 10min 2s, sys: 40.4 s, total: 10min 42s\n",
      "Wall time: 11min 11s\n"
     ]
    }
   ],
   "source": [
    "%%time\n",
    "rate = 44100\n",
    "window = 15*rate #15 sec\n",
    "jump = rate #1 sec\n",
    "#spectral_centroid_beg = data.segment_beg.map(lambda x: cf.spectral_centroid_meanstdc(x, rate, window, jump))\n",
    "#spectral_centroid_mid = data.segment_mid.map(lambda x: cf.spectral_centroid_meanstdc(x, rate, window, jump))\n",
    "spectral_centroid_end = data.segment_end.map(lambda x: cf.spectral_centroid_meanstdc(x, rate, window, jump))"
   ]
  },
  {
   "cell_type": "code",
   "execution_count": 32,
   "metadata": {
    "collapsed": false
   },
   "outputs": [
    {
     "name": "stdout",
     "output_type": "stream",
     "text": [
      "CPU times: user 10min 35s, sys: 48.2 s, total: 11min 23s\n",
      "Wall time: 11min 59s\n"
     ]
    }
   ],
   "source": [
    "%%time\n",
    "spectral_rolloff_beg = data.segment_beg.map(lambda x: cf.spectral_rolloff_meanstdc(x, window, jump))\n",
    "#spectral_rolloff_mid = data.segment_mid.map(lambda x: cf.spectral_rolloff_meanstdc(x, window, jump))\n",
    "#spectral_rolloff_end = data.segment_end.map(lambda x: cf.spectral_rolloff_meanstdc(x, window, jump))"
   ]
  },
  {
   "cell_type": "code",
   "execution_count": 48,
   "metadata": {
    "collapsed": false
   },
   "outputs": [
    {
     "name": "stdout",
     "output_type": "stream",
     "text": [
      "CPU times: user 30.8 s, sys: 4.78 s, total: 35.5 s\n",
      "Wall time: 39.8 s\n"
     ]
    }
   ],
   "source": [
    "%%time \n",
    "c = data.segment_beg.map(lambda x: np.mean(lb.feature.spectral_centroid(x, sr = rate, n_fft=rate, hop_length=rate)))"
   ]
  },
  {
   "cell_type": "markdown",
   "metadata": {},
   "source": [
    "# Pitch Content Features"
   ]
  },
  {
   "cell_type": "code",
   "execution_count": 111,
   "metadata": {
    "collapsed": true
   },
   "outputs": [],
   "source": [
    "import scipy.signal as ss"
   ]
  },
  {
   "cell_type": "code",
   "execution_count": 112,
   "metadata": {
    "collapsed": true
   },
   "outputs": [],
   "source": [
    "def decompose(signal):\n",
    "    B_low,A_low = ss.cheby1(N = 5, rp = 1, Wn = 1000/22050, btype='lowpass')\n",
    "    B_hi,A_hi = ss.cheby1(N = 5, rp = 1, Wn = 1000/22050, btype='highpass')\n",
    "    low_pass = ss.lfilter(B_low,A_low,signal)\n",
    "    high_pass = ss.lfilter(B_hi,A_hi,signal)\n",
    "    return low_pass, high_pass\n",
    "\n",
    "def lpfilter(signal,alpha=0.99):\n",
    "    y = range(len(signal))\n",
    "    y[0] = 0\n",
    "    for i in xrange(1,len(signal)):\n",
    "        y[i] = ((1-alpha) * signal[i]) + (alpha * y[i-1])\n",
    "    return np.array(y)\n",
    "\n",
    "def acf(signal):\n",
    "    n = len(signal)\n",
    "    array = np.array([np.dot(signal[:n-i], signal[i:])/float(n) for i in xrange(n)]) \n",
    "    return array\n",
    "\n",
    "def half_wave_rectify(signal):\n",
    "    hwr = signal.copy()\n",
    "    hwr[hwr<0]=0\n",
    "    return hwr\n",
    "\n",
    "def sacf(signal):\n",
    "    low,hi = decompose(signal)\n",
    "    env_low = acf(lpfilter(half_wave_rectify(low)))\n",
    "    env_hi = acf(lpfilter(half_wave_rectify(hi)))\n",
    "    env_sum = env_low + env_hi\n",
    "    return env_sum"
   ]
  },
  {
   "cell_type": "code",
   "execution_count": 27,
   "metadata": {
    "collapsed": false
   },
   "outputs": [],
   "source": [
    "sample = data.segment_beg[100]\n",
    "partitions = cf._partitionc(sample, 44100/1000*46, 44100/1000*46) #window length is 46 ms, jump is 46 ms"
   ]
  },
  {
   "cell_type": "code",
   "execution_count": 272,
   "metadata": {
    "collapsed": false
   },
   "outputs": [
    {
     "name": "stdout",
     "output_type": "stream",
     "text": [
      "CPU times: user 5.95 s, sys: 6.28 ms, total: 5.96 s\n",
      "Wall time: 5.96 s\n"
     ]
    }
   ],
   "source": [
    "%%time\n",
    "sacfs = map(sacf, partitions)"
   ]
  },
  {
   "cell_type": "code",
   "execution_count": 282,
   "metadata": {
    "collapsed": false
   },
   "outputs": [
    {
     "data": {
      "text/plain": [
       "[<matplotlib.lines.Line2D at 0x3a50ebe10>]"
      ]
     },
     "execution_count": 282,
     "metadata": {},
     "output_type": "execute_result"
    },
    {
     "data": {
      "image/png": "[encoded data removed]",
      "text/plain": [
       "<matplotlib.figure.Figure at 0x3a512a850>"
      ]
     },
     "metadata": {},
     "output_type": "display_data"
    }
   ],
   "source": [
    "plt.plot(sacfs[5])"
   ]
  },
  {
   "cell_type": "code",
   "execution_count": 274,
   "metadata": {
    "collapsed": true
   },
   "outputs": [],
   "source": [
    "def peak(array):\n",
    "    z=np.diff(array)\n",
    "    ind = []\n",
    "    for i in xrange(len(z)-1):\n",
    "        if z[i+1] < 0 and z[i] > 0:\n",
    "            ind.append((array[i+1],i))\n",
    "    return sorted(ind)[-3:]"
   ]
  },
  {
   "cell_type": "code",
   "execution_count": 275,
   "metadata": {
    "collapsed": false
   },
   "outputs": [
    {
     "name": "stdout",
     "output_type": "stream",
     "text": [
      "CPU times: user 605 ms, sys: 10.5 ms, total: 615 ms\n",
      "Wall time: 621 ms\n"
     ]
    }
   ],
   "source": [
    "%%time\n",
    "peaks = map(peak, sacfs)"
   ]
  },
  {
   "cell_type": "code",
   "execution_count": 263,
   "metadata": {
    "collapsed": false
   },
   "outputs": [],
   "source": [
    "import itertools as it\n",
    "peaks_flat = list(it.chain.from_iterable(peaks))"
   ]
  },
  {
   "cell_type": "code",
   "execution_count": 264,
   "metadata": {
    "collapsed": false
   },
   "outputs": [],
   "source": [
    "unfolded = [(int(i[0]), int(12*np.log2(i[1]/440))+69)for i in peaks_flat]\n",
    "folded = [(i[0], i[1]%12) for i in unfolded]"
   ]
  },
  {
   "cell_type": "code",
   "execution_count": 265,
   "metadata": {
    "collapsed": false
   },
   "outputs": [],
   "source": [
    "unfoldedsort = sorted(unfolded, key  = lambda x: x[1])\n",
    "foldedsort = sorted(folded, key = lambda x: x[1])"
   ]
  },
  {
   "cell_type": "code",
   "execution_count": 290,
   "metadata": {
    "collapsed": false
   },
   "outputs": [],
   "source": [
    "accum_unfolded = []\n",
    "for key,group in it.groupby(unfoldedsort, lambda x: x[1]):\n",
    "    accum_unfolded.append((key, sum([i[0] for i in group])))"
   ]
  },
  {
   "cell_type": "code",
   "execution_count": 267,
   "metadata": {
    "collapsed": false
   },
   "outputs": [
    {
     "data": {
      "text/plain": [
       "<Container object of 3 artists>"
      ]
     },
     "execution_count": 267,
     "metadata": {},
     "output_type": "execute_result"
    },
    {
     "data": {
      "image/png": "[encoded data removed]",
      "text/plain": [
       "<matplotlib.figure.Figure at 0x3acc55cd0>"
      ]
     },
     "metadata": {},
     "output_type": "display_data"
    }
   ],
   "source": [
    "plt.stem(np.array(accum_unfolded)[:,0], np.array(accum_unfolded)[:,1])"
   ]
  },
  {
   "cell_type": "code",
   "execution_count": 268,
   "metadata": {
    "collapsed": true
   },
   "outputs": [],
   "source": [
    "accum_folded = []\n",
    "for key,group in it.groupby(foldedsort, lambda x: x[1]):\n",
    "    accum_folded.append((key, sum([i[0] for i in group])))"
   ]
  },
  {
   "cell_type": "code",
   "execution_count": 269,
   "metadata": {
    "collapsed": false
   },
   "outputs": [
    {
     "data": {
      "text/plain": [
       "<Container object of 3 artists>"
      ]
     },
     "execution_count": 269,
     "metadata": {},
     "output_type": "execute_result"
    },
    {
     "data": {
      "image/png": "[encoded data removed]",
      "text/plain": [
       "<matplotlib.figure.Figure at 0x3bf4ce310>"
      ]
     },
     "metadata": {},
     "output_type": "display_data"
    }
   ],
   "source": [
    "plt.stem(np.array(accum_folded)[:,0], np.array(accum_folded)[:,1])"
   ]
  },
  {
   "cell_type": "code",
   "execution_count": null,
   "metadata": {
    "collapsed": true
   },
   "outputs": [],
   "source": []
  }
 ],
 "metadata": {
  "kernelspec": {
   "display_name": "Python 2",
   "language": "python",
   "name": "python2"
  },
  "language_info": {
   "codemirror_mode": {
    "name": "ipython",
    "version": 2
   },
   "file_extension": ".py",
   "mimetype": "text/x-python",
   "name": "python",
   "nbconvert_exporter": "python",
   "pygments_lexer": "ipython2",
   "version": "2.7.9"
  }
 },
 "nbformat": 4,
 "nbformat_minor": 0
}
