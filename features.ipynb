{
 "cells": [
  {
   "cell_type": "code",
   "execution_count": 2,
   "metadata": {
    "collapsed": false
   },
   "outputs": [
    {
     "name": "stderr",
     "output_type": "stream",
     "text": [
      "[ERROR] This trial license of GraphLab Create assigned to bninopaul@gmail.com has expired. Please contact trial@dato.com for licensing options or to request a free non-commercial license for personal or academic use.\n",
      "\n"
     ]
    }
   ],
   "source": [
    "%matplotlib inline\n",
    "data = pd.read_pickle(\"songs_paul.pkl\")"
   ]
  },
  {
   "cell_type": "code",
   "execution_count": 3,
   "metadata": {
    "collapsed": false
   },
   "outputs": [
    {
     "data": {
      "text/html": [
       "<div style=\"max-height:1000px;max-width:1500px;overflow:auto;\">\n",
       "<table border=\"1\" class=\"dataframe\">\n",
       "  <thead>\n",
       "    <tr style=\"text-align: right;\">\n",
       "      <th></th>\n",
       "      <th>artist</th>\n",
       "      <th>song</th>\n",
       "      <th>signal</th>\n",
       "      <th>sample_rate</th>\n",
       "      <th>channel</th>\n",
       "    </tr>\n",
       "  </thead>\n",
       "  <tbody>\n",
       "    <tr>\n",
       "      <th>0</th>\n",
       "      <td> Pink</td>\n",
       "      <td>      Are We All We Are</td>\n",
       "      <td> [0, 0, 0, 0, 0, 0, 0, 0, 0, 0, 0, 0, 0, 0, 0, ...</td>\n",
       "      <td> 44100</td>\n",
       "      <td> 2</td>\n",
       "    </tr>\n",
       "    <tr>\n",
       "      <th>1</th>\n",
       "      <td> Pink</td>\n",
       "      <td> Blow Me  One Last Kiss</td>\n",
       "      <td> [-9, -14, -10, -9, -11, -11, -9, -12, -11, -10...</td>\n",
       "      <td> 44100</td>\n",
       "      <td> 2</td>\n",
       "    </tr>\n",
       "    <tr>\n",
       "      <th>2</th>\n",
       "      <td> Pink</td>\n",
       "      <td>                    Try</td>\n",
       "      <td> [0, 0, 0, 0, 0, 0, 0, 0, 0, 0, 0, 0, 0, 0, 0, ...</td>\n",
       "      <td> 44100</td>\n",
       "      <td> 2</td>\n",
       "    </tr>\n",
       "    <tr>\n",
       "      <th>3</th>\n",
       "      <td> Pink</td>\n",
       "      <td>  Just Give Me A Reason</td>\n",
       "      <td> [0, 0, 0, 0, 0, 0, 0, 0, 0, 0, 0, 0, 0, 0, 0, ...</td>\n",
       "      <td> 44100</td>\n",
       "      <td> 2</td>\n",
       "    </tr>\n",
       "    <tr>\n",
       "      <th>4</th>\n",
       "      <td> Pink</td>\n",
       "      <td>              True Love</td>\n",
       "      <td> [0, 0, 0, 0, 0, 0, 0, 0, 0, 0, 0, 0, 0, 0, 0, ...</td>\n",
       "      <td> 44100</td>\n",
       "      <td> 2</td>\n",
       "    </tr>\n",
       "  </tbody>\n",
       "</table>\n",
       "</div>"
      ],
      "text/plain": [
       "  artist                    song  \\\n",
       "0   Pink       Are We All We Are   \n",
       "1   Pink  Blow Me  One Last Kiss   \n",
       "2   Pink                     Try   \n",
       "3   Pink   Just Give Me A Reason   \n",
       "4   Pink               True Love   \n",
       "\n",
       "                                              signal  sample_rate  channel  \n",
       "0  [0, 0, 0, 0, 0, 0, 0, 0, 0, 0, 0, 0, 0, 0, 0, ...        44100        2  \n",
       "1  [-9, -14, -10, -9, -11, -11, -9, -12, -11, -10...        44100        2  \n",
       "2  [0, 0, 0, 0, 0, 0, 0, 0, 0, 0, 0, 0, 0, 0, 0, ...        44100        2  \n",
       "3  [0, 0, 0, 0, 0, 0, 0, 0, 0, 0, 0, 0, 0, 0, 0, ...        44100        2  \n",
       "4  [0, 0, 0, 0, 0, 0, 0, 0, 0, 0, 0, 0, 0, 0, 0, ...        44100        2  "
      ]
     },
     "execution_count": 3,
     "metadata": {},
     "output_type": "execute_result"
    }
   ],
   "source": [
    "data.head()"
   ]
  },
  {
   "cell_type": "code",
   "execution_count": 16,
   "metadata": {
    "collapsed": false
   },
   "outputs": [
    {
     "name": "stdout",
     "output_type": "stream",
     "text": [
      "Populating the interactive namespace from numpy and matplotlib\n"
     ]
    },
    {
     "data": {
      "text/html": [
       "\n",
       "    <head>\n",
       "    <meta http-equiv=\"Content-Type\" content=\"text/html; charset=utf-8\">\n",
       "    <title>Simple Test</title>\n",
       "    </head>\n",
       "\n",
       "    <body>\n",
       "    <audio controls=\"controls\" style=\"width:600px\" >\n",
       "      <source src=\"files/sample.wav\" type=\"audio/wav\" />\n",
       "      Your browser does not support the audio element.\n",
       "    </audio>\n",
       "    </body>\n",
       "    "
      ],
      "text/plain": [
       "<IPython.core.display.HTML object>"
      ]
     },
     "metadata": {},
     "output_type": "display_data"
    },
    {
     "name": "stdout",
     "output_type": "stream",
     "text": [
      "Song: Loyal\n",
      "Artist: Chris Brown\n"
     ]
    }
   ],
   "source": [
    "%pylab inline\n",
    "from utils import wavfilePlayer\n",
    "from scipy.io import wavfile\n",
    "index = 501\n",
    "wavfile.write(\"sample.wav\", data.ix[index]['sample_rate'], data.ix[index]['signal'])\n",
    "display(wavfilePlayer.wavPlayer(\"sample.wav\"))\n",
    "print \"Song: {}\\nArtist: {}\".format(data.ix[index]['song'], data.ix[index]['artist'])"
   ]
  },
  {
   "cell_type": "code",
   "execution_count": 26,
   "metadata": {
    "collapsed": false
   },
   "outputs": [
    {
     "data": {
      "text/plain": [
       "[<matplotlib.lines.Line2D at 0x292378d90>]"
      ]
     },
     "execution_count": 26,
     "metadata": {},
     "output_type": "execute_result"
    },
    {
     "data": {
      "image/png": "[encoded data removed]",
      "text/plain": [
       "<matplotlib.figure.Figure at 0x1167cdf90>"
      ]
     },
     "metadata": {},
     "output_type": "display_data"
    }
   ],
   "source": [
    "index = 0\n",
    "sample = data.ix[index]['signal']\n",
    "rate = data.ix[index]['sample_rate']\n",
    "plt.figure(figsize = (20, 5))\n",
    "plt.plot(sample[:1000000])"
   ]
  },
  {
   "cell_type": "code",
   "execution_count": 27,
   "metadata": {
    "collapsed": true
   },
   "outputs": [],
   "source": [
    "def segment_music(df,num_secs):\n",
    "    segments = []\n",
    "    for i in df.index:\n",
    "        song = df.ix[i]['signal']\n",
    "        num_pts = df.ix[i]['sample_rate']*num_secs\n",
    "        trimmed = np.trim_zeros(song)\n",
    "        seg_beg = trimmed[:num_pts]\n",
    "        seg_mid = trimmed[int(trimmed.shape[0]/2)-(num_pts/2):int(trimmed.shape[0]/2)+(num_pts/2)]\n",
    "        seg_end = trimmed[-num_pts:]\n",
    "        segments.append([seg_beg,seg_mid,seg_end])\n",
    "    return segments"
   ]
  },
  {
   "cell_type": "code",
   "execution_count": 28,
   "metadata": {
    "collapsed": false
   },
   "outputs": [],
   "source": [
    "segments = segment_music(data, 30)\n",
    "data['segment_beg'] = map(lambda x: x[0], segments)\n",
    "data['segment_mid'] = map(lambda x: x[1], segments)\n",
    "data['segment_end'] = map(lambda x: x[2], segments)"
   ]
  },
  {
   "cell_type": "code",
   "execution_count": 20,
   "metadata": {
    "collapsed": false
   },
   "outputs": [
    {
     "data": {
      "text/html": [
       "<div style=\"max-height:1000px;max-width:1500px;overflow:auto;\">\n",
       "<table border=\"1\" class=\"dataframe\">\n",
       "  <thead>\n",
       "    <tr style=\"text-align: right;\">\n",
       "      <th></th>\n",
       "      <th>artist</th>\n",
       "      <th>song</th>\n",
       "      <th>signal</th>\n",
       "      <th>sample_rate</th>\n",
       "      <th>channel</th>\n",
       "      <th>segment_beg</th>\n",
       "      <th>segment_mid</th>\n",
       "      <th>segment_end</th>\n",
       "    </tr>\n",
       "  </thead>\n",
       "  <tbody>\n",
       "    <tr>\n",
       "      <th>0</th>\n",
       "      <td> Pink</td>\n",
       "      <td>      Are We All We Are</td>\n",
       "      <td> [0, 0, 0, 0, 0, 0, 0, 0, 0, 0, 0, 0, 0, 0, 0, ...</td>\n",
       "      <td> 44100</td>\n",
       "      <td> 2</td>\n",
       "      <td> [-1, 0, 0, 0, 0, 0, 0, 0, 0, 0, 0, 0, 0, 0, 0,...</td>\n",
       "      <td> [4502, 4882, 5043, 4242, 3328, 3123, 2721, 213...</td>\n",
       "      <td> [16448, 17526, 18439, 17593, 13771, 8368, 3233...</td>\n",
       "    </tr>\n",
       "    <tr>\n",
       "      <th>1</th>\n",
       "      <td> Pink</td>\n",
       "      <td> Blow Me  One Last Kiss</td>\n",
       "      <td> [-9, -14, -10, -9, -11, -11, -9, -12, -11, -10...</td>\n",
       "      <td> 44100</td>\n",
       "      <td> 2</td>\n",
       "      <td> [-9, -14, -10, -9, -11, -11, -9, -12, -11, -10...</td>\n",
       "      <td> [-21642, -22164, -20812, -20917, -22107, -2208...</td>\n",
       "      <td> [-10354, -9495, -7790, -6376, 1590, 7864, 1191...</td>\n",
       "    </tr>\n",
       "    <tr>\n",
       "      <th>2</th>\n",
       "      <td> Pink</td>\n",
       "      <td>                    Try</td>\n",
       "      <td> [0, 0, 0, 0, 0, 0, 0, 0, 0, 0, 0, 0, 0, 0, 0, ...</td>\n",
       "      <td> 44100</td>\n",
       "      <td> 2</td>\n",
       "      <td> [-1, 0, 0, 0, 0, 0, 0, 0, 0, 0, 0, 0, 0, 0, 0,...</td>\n",
       "      <td> [-3781, -2791, -2189, -1502, -782, -468, -761,...</td>\n",
       "      <td> [13418, 14179, 12476, 10395, 8173, 7343, 10015...</td>\n",
       "    </tr>\n",
       "    <tr>\n",
       "      <th>3</th>\n",
       "      <td> Pink</td>\n",
       "      <td>  Just Give Me A Reason</td>\n",
       "      <td> [0, 0, 0, 0, 0, 0, 0, 0, 0, 0, 0, 0, 0, 0, 0, ...</td>\n",
       "      <td> 44100</td>\n",
       "      <td> 2</td>\n",
       "      <td> [-1, 0, 0, 0, 0, 0, 0, 0, 0, 0, 0, 0, 0, 0, 0,...</td>\n",
       "      <td> [-6072, -6576, -6950, -6696, -5653, -3965, -18...</td>\n",
       "      <td> [-626, -256, 584, 1901, 3315, 4537, 5400, 5956...</td>\n",
       "    </tr>\n",
       "    <tr>\n",
       "      <th>4</th>\n",
       "      <td> Pink</td>\n",
       "      <td>              True Love</td>\n",
       "      <td> [0, 0, 0, 0, 0, 0, 0, 0, 0, 0, 0, 0, 0, 0, 0, ...</td>\n",
       "      <td> 44100</td>\n",
       "      <td> 2</td>\n",
       "      <td> [-1, 0, 0, 0, 0, 0, 0, 0, 0, 0, 0, 0, 0, 0, 0,...</td>\n",
       "      <td> [-15014, -19098, -18029, -17997, -16174, -1636...</td>\n",
       "      <td> [18431, 24020, 31532, 32767, 27869, 25101, 263...</td>\n",
       "    </tr>\n",
       "  </tbody>\n",
       "</table>\n",
       "</div>"
      ],
      "text/plain": [
       "  artist                    song  \\\n",
       "0   Pink       Are We All We Are   \n",
       "1   Pink  Blow Me  One Last Kiss   \n",
       "2   Pink                     Try   \n",
       "3   Pink   Just Give Me A Reason   \n",
       "4   Pink               True Love   \n",
       "\n",
       "                                              signal  sample_rate  channel  \\\n",
       "0  [0, 0, 0, 0, 0, 0, 0, 0, 0, 0, 0, 0, 0, 0, 0, ...        44100        2   \n",
       "1  [-9, -14, -10, -9, -11, -11, -9, -12, -11, -10...        44100        2   \n",
       "2  [0, 0, 0, 0, 0, 0, 0, 0, 0, 0, 0, 0, 0, 0, 0, ...        44100        2   \n",
       "3  [0, 0, 0, 0, 0, 0, 0, 0, 0, 0, 0, 0, 0, 0, 0, ...        44100        2   \n",
       "4  [0, 0, 0, 0, 0, 0, 0, 0, 0, 0, 0, 0, 0, 0, 0, ...        44100        2   \n",
       "\n",
       "                                         segment_beg  \\\n",
       "0  [-1, 0, 0, 0, 0, 0, 0, 0, 0, 0, 0, 0, 0, 0, 0,...   \n",
       "1  [-9, -14, -10, -9, -11, -11, -9, -12, -11, -10...   \n",
       "2  [-1, 0, 0, 0, 0, 0, 0, 0, 0, 0, 0, 0, 0, 0, 0,...   \n",
       "3  [-1, 0, 0, 0, 0, 0, 0, 0, 0, 0, 0, 0, 0, 0, 0,...   \n",
       "4  [-1, 0, 0, 0, 0, 0, 0, 0, 0, 0, 0, 0, 0, 0, 0,...   \n",
       "\n",
       "                                         segment_mid  \\\n",
       "0  [4502, 4882, 5043, 4242, 3328, 3123, 2721, 213...   \n",
       "1  [-21642, -22164, -20812, -20917, -22107, -2208...   \n",
       "2  [-3781, -2791, -2189, -1502, -782, -468, -761,...   \n",
       "3  [-6072, -6576, -6950, -6696, -5653, -3965, -18...   \n",
       "4  [-15014, -19098, -18029, -17997, -16174, -1636...   \n",
       "\n",
       "                                         segment_end  \n",
       "0  [16448, 17526, 18439, 17593, 13771, 8368, 3233...  \n",
       "1  [-10354, -9495, -7790, -6376, 1590, 7864, 1191...  \n",
       "2  [13418, 14179, 12476, 10395, 8173, 7343, 10015...  \n",
       "3  [-626, -256, 584, 1901, 3315, 4537, 5400, 5956...  \n",
       "4  [18431, 24020, 31532, 32767, 27869, 25101, 263...  "
      ]
     },
     "execution_count": 20,
     "metadata": {},
     "output_type": "execute_result"
    }
   ],
   "source": [
    "data.head()"
   ]
  },
  {
   "cell_type": "markdown",
   "metadata": {},
   "source": [
    "### Features"
   ]
  },
  {
   "cell_type": "code",
   "execution_count": 50,
   "metadata": {
    "collapsed": false
   },
   "outputs": [],
   "source": [
    "import librosa as lb"
   ]
  },
  {
   "cell_type": "markdown",
   "metadata": {},
   "source": [
    "Spectral Centroid"
   ]
  },
  {
   "cell_type": "code",
   "execution_count": 272,
   "metadata": {
    "collapsed": true
   },
   "outputs": [],
   "source": [
    "def _partition(signal, window_length, jump):\n",
    "    \"\"\"\n",
    "    Params:\n",
    "    signal: (one-dimensional array)\n",
    "    window_length: (int) size of the window/frame\n",
    "    jump: (int) length of distance between windows/frames\n",
    "    \n",
    "    Return:\n",
    "    partitions: (list) list of partitioned windows/frames of length window_length and \n",
    "    \"\"\"\n",
    "    signal_length = len(signal)\n",
    "    signal_index = range(signal_length - window_length)\n",
    "    beg_index = np.array(filter(lambda x: x%jump==0, signal_index))\n",
    "    end_index = beg_index + window_length\n",
    "    zipped = zip(beg_index, end_index)\n",
    "    \n",
    "    partitions = [signal[i[0]:i[1]] for i in zipped]\n",
    "    return partitions"
   ]
  },
  {
   "cell_type": "code",
   "execution_count": 273,
   "metadata": {
    "collapsed": false
   },
   "outputs": [],
   "source": [
    "#Source: https://en.wikipedia.org/wiki/Spectral_centroid\n",
    "def _spectral_centroid(signal, rate):\n",
    "    \"\"\"\n",
    "    Params:\n",
    "    signal: (one-dimensional array)\n",
    "    rate: (int) sampling rate of the audio signal\n",
    "\n",
    "    Return:\n",
    "    spectral_centroid:(float) \n",
    "    \"\"\"\n",
    "    fft_mag = np.abs(np.fft.rfft(signal))\n",
    "    freq = np.fft.rfftfreq(len(signal), 1/rate)\n",
    "    spectral_centroid = np.dot(fft_mag, freq)/sum(fft_mag)\n",
    "    return spectral_centroid"
   ]
  },
  {
   "cell_type": "code",
   "execution_count": 274,
   "metadata": {
    "collapsed": false
   },
   "outputs": [],
   "source": [
    "def spectral_centroid_meanstd(signal, rate, window_length, jump):\n",
    "    \"\"\"\n",
    "    Params:\n",
    "    signal:(one-dimensional array)\n",
    "    rate: (int) sampling rate of the audio signal\n",
    "    window_length: (int) see _partition()\n",
    "    jump: (int) see_partition()\n",
    "    \n",
    "    Return:\n",
    "    centroid_mean: (float) mean of the spectral centroids of a signal\n",
    "    centroid_std: (float) standard deviation of the spectral centroids of a signal\n",
    "    \"\"\"\n",
    "    partitions = _partition(signal, window_length, jump)\n",
    "    centroids = map(lambda x: _spectral_centroid(x, rate), partitions)\n",
    "    centroid_mean = np.mean(centroids)\n",
    "    centroid_std = np.std(centroids)\n",
    "    return centroid_mean, centroid_std"
   ]
  },
  {
   "cell_type": "code",
   "execution_count": 275,
   "metadata": {
    "collapsed": false
   },
   "outputs": [
    {
     "data": {
      "text/plain": [
       "(3245.9162490295521, 440.80881943983172)"
      ]
     },
     "execution_count": 275,
     "metadata": {},
     "output_type": "execute_result"
    }
   ],
   "source": [
    "spectral_centroid_meanstd(sample, rate, rate, rate)"
   ]
  },
  {
   "cell_type": "code",
   "execution_count": 261,
   "metadata": {
    "collapsed": false
   },
   "outputs": [
    {
     "data": {
      "text/plain": [
       "(3256.6105000548023, 504.78812322491126)"
      ]
     },
     "execution_count": 261,
     "metadata": {},
     "output_type": "execute_result"
    }
   ],
   "source": [
    "spec_centroid = lb.feature.spectral_centroid(sample, sr = rate, n_fft=rate, hop_length=rate)\n",
    "spec_centroid.mean(), spec_centroid.std()"
   ]
  },
  {
   "cell_type": "markdown",
   "metadata": {},
   "source": [
    "Spectral Roll Off"
   ]
  },
  {
   "cell_type": "code",
   "execution_count": 194,
   "metadata": {
    "collapsed": true
   },
   "outputs": [],
   "source": [
    "#Source: http://webhome.csc.uvic.ca/~gtzan/output/tsap02gtzan.pdf\n",
    "def _spectral_rolloff(signal):\n",
    "    \"\"\"\n",
    "    Params:\n",
    "    signal: (one-dimensional array)\n",
    "    \n",
    "    Return:\n",
    "    spectral_rolloff: (float) spectral roll-off of the signal\n",
    "    \"\"\"\n",
    "    fft_mag = np.abs(np.fft.rfft(signal))\n",
    "    dist85 = 0.85*sum(fft_mag)\n",
    "    cumsum = np.cumsum(fft_mag)\n",
    "    lessdist85 = cumsum<dist85\n",
    "    spectral_rolloff = np.sum(lessdist85)\n",
    "    return spectral_rolloff"
   ]
  },
  {
   "cell_type": "code",
   "execution_count": 195,
   "metadata": {
    "collapsed": true
   },
   "outputs": [],
   "source": [
    "def spectral_rolloff_meanstd(signal, window_length, jump):\n",
    "    \"\"\"\n",
    "    Params:\n",
    "    signal: (one-dimensional array)\n",
    "    window_length: (int) see _partition()\n",
    "    jump: (int) see _partition()\n",
    "    \n",
    "    Return:\n",
    "    roll_off_mean: (float) mean of the spectral roll-offs of the windows generated from the signal\n",
    "    roll_off_std: (float) standard deviation of the spectral roll-offs of the windows generated from the signal\n",
    "    \"\"\"\n",
    "    partitions = _partition(signal, window_length, jump)\n",
    "    roll_offs = map(lambda x: _spectral_rolloff(x), partitions)\n",
    "    roll_off_mean = np.mean(roll_offs)\n",
    "    roll_off_std = np.std(roll_offs)\n",
    "    return roll_off_mean, roll_off_std"
   ]
  },
  {
   "cell_type": "code",
   "execution_count": 196,
   "metadata": {
    "collapsed": false
   },
   "outputs": [
    {
     "data": {
      "text/plain": [
       "(6760.6682027649767, 1185.414174660752)"
      ]
     },
     "execution_count": 196,
     "metadata": {},
     "output_type": "execute_result"
    }
   ],
   "source": [
    "spectral_rolloff_meanstd(sample, rate, rate)"
   ]
  },
  {
   "cell_type": "code",
   "execution_count": 197,
   "metadata": {
    "collapsed": false
   },
   "outputs": [
    {
     "data": {
      "text/plain": [
       "(6755.2935779816517, 1323.3598143421307)"
      ]
     },
     "execution_count": 197,
     "metadata": {},
     "output_type": "execute_result"
    }
   ],
   "source": [
    "roll_off = lb.feature.spectral_rolloff(sample, sr = rate, n_fft = rate, hop_length=rate)\n",
    "roll_off.mean(), roll_off.std()"
   ]
  },
  {
   "cell_type": "markdown",
   "metadata": {},
   "source": [
    "Spectral Flow/Spectral Flux"
   ]
  },
  {
   "cell_type": "code",
   "execution_count": 198,
   "metadata": {
    "collapsed": false
   },
   "outputs": [],
   "source": [
    "#Source: http://webhome.csc.uvic.ca/~gtzan/output/tsap02gtzan.pdf\n",
    "#spectral flow and spectral flux are the same thing.\n",
    "def spectral_flow_meanstd(signal, window_length, jump):\n",
    "    \"\"\"\n",
    "    Params:\n",
    "    signal: (one-dimensional array)\n",
    "    window_length: (int) see _partition()\n",
    "    jump: (int) see _partition()\n",
    "    \n",
    "    Return:\n",
    "    flow_mean: (float) mean of the spectral flow of the signal\n",
    "    flow_std: (float) standard deviation of the spectral flow of the signal\n",
    "    \"\"\"\n",
    "    partitions = _partition(signal, window_length, jump)\n",
    "    normalized_partitions = map(lambda x: x.astype(int)/np.linalg.norm(x.astype(int)), partitions)\n",
    "    Nt = np.array(normalized_partitions[1:])\n",
    "    Nt1 = np.array(normalized_partitions[:len(normalized_partitions)-1])\n",
    "    Ft = np.sum((Nt - Nt1)**2, axis = 1)\n",
    "    flow_mean = Ft.mean()\n",
    "    flow_std = Ft.std()\n",
    "    return flow_mean, flow_std\n",
    "    "
   ]
  },
  {
   "cell_type": "code",
   "execution_count": 199,
   "metadata": {
    "collapsed": false
   },
   "outputs": [
    {
     "data": {
      "text/plain": [
       "(2.0029416829739826, 0.070835142382250735)"
      ]
     },
     "execution_count": 199,
     "metadata": {},
     "output_type": "execute_result"
    }
   ],
   "source": [
    "spectral_flow_meanstd(sample, rate, rate)"
   ]
  },
  {
   "cell_type": "markdown",
   "metadata": {},
   "source": [
    "Zero-Crossing Rate Mean"
   ]
  },
  {
   "cell_type": "code",
   "execution_count": 235,
   "metadata": {
    "collapsed": true
   },
   "outputs": [],
   "source": [
    "#Source: http://webhome.csc.uvic.ca/~gtzan/output/tsap02gtzan.pdf\n",
    "def zero_crossing_rate_meanstd(signal, window_length, jump):\n",
    "    \"\"\"\n",
    "    Params:\n",
    "    signal: (one-dimensional array)\n",
    "    window_length: (int) see _partition()\n",
    "    jump: (int) see _partition()\n",
    "    \n",
    "    Return:\n",
    "    zero_crossing_rate_mean: (float) mean of the zero crossing rates of the windows\n",
    "    zero_crossing_rate_std: (float) standard deviation of the zero crossing rates of the windows\n",
    "    \"\"\"\n",
    "    \n",
    "    partitions = np.array(_partition(signal, window_length, jump))\n",
    "    m,n = partitions.shape\n",
    "    sign, sign1 = partitions[:, 1:]>0, partitions[:, :n-1]>0\n",
    "    zero_crossing_rate  = (np.sum(np.abs(sign - sign1), axis = 1))/n\n",
    "    zero_crossing_rate_mean = zero_crossing_rate.mean()\n",
    "    zero_crossing_rate_std = zero_crossing_rate.std()\n",
    "    return zero_crossing_rate_mean, zero_crossing_rate_std"
   ]
  },
  {
   "cell_type": "code",
   "execution_count": 236,
   "metadata": {
    "collapsed": false
   },
   "outputs": [
    {
     "data": {
      "text/plain": [
       "(0.067456764579871889, 0.018277169880250941)"
      ]
     },
     "execution_count": 236,
     "metadata": {},
     "output_type": "execute_result"
    }
   ],
   "source": [
    "zero_crossing_rate_meanstd(sample, rate, rate)"
   ]
  },
  {
   "cell_type": "code",
   "execution_count": 230,
   "metadata": {
    "collapsed": false
   },
   "outputs": [
    {
     "data": {
      "text/plain": [
       "(0.069042418190517804, 0.018771809224226693)"
      ]
     },
     "execution_count": 230,
     "metadata": {},
     "output_type": "execute_result"
    }
   ],
   "source": [
    "zero_crossing_rate = lb.feature.zero_crossing_rate(sample, rate, rate)\n",
    "zero_crossing_rate.mean(), zero_crossing_rate.std()"
   ]
  },
  {
   "cell_type": "markdown",
   "metadata": {},
   "source": [
    "Low Energy "
   ]
  },
  {
   "cell_type": "code",
   "execution_count": 245,
   "metadata": {
    "collapsed": true
   },
   "outputs": [],
   "source": [
    "def rms_energy(signal):\n",
    "    \"\"\"\n",
    "    Params:\n",
    "    signal: (one-dimensional array)\n",
    "    \n",
    "    Return:\n",
    "    rmsenergy: (float) root mean square energy of the signal\n",
    "    \"\"\"\n",
    "    \n",
    "    rmsenergy = np.sqrt(np.mean(signal**2))\n",
    "    return rmsenergy"
   ]
  },
  {
   "cell_type": "code",
   "execution_count": 257,
   "metadata": {
    "collapsed": false
   },
   "outputs": [],
   "source": [
    "#Source(definition of RMS energy): http://blog.prosig.com/2015/01/06/rms-from-time-history-and-fft-spectrum/\n",
    "#SOurce(definition of low energy feature): \n",
    "def lowenergy_feature(signal, aw_windowlength, tw_windowlength, jump):\n",
    "    \"\"\"\n",
    "    Params:\n",
    "    signal: (one-dimensional array)\n",
    "    aw_windowlength: (int) window length of the analysis windows\n",
    "    tw_windowlength: (int) window length of the texture windows\n",
    "    jump: (int) see _partition()\n",
    "    \n",
    "    Return:\n",
    "    lowenergy_percentage: (float) between 0-1,the percentage of analysis windows that have less\n",
    "                            RMS energy than the average RMS energy across the texture window\n",
    "    \"\"\"\n",
    "    if tw_windowlength< aw_windowlength:\n",
    "        raise ValueError\n",
    "    signal = signal.astype(int)\n",
    "    partitions_analysis = _partition(signal, aw_windowlength, jump)\n",
    "    partitions_texture = _partition(signal, tw_windowlength, jump)\n",
    "    rmsenergy_analysis = map(lambda x: rms_energy(x), partitions_analysis)\n",
    "    rmsenergy_texture = map(lambda x: rms_energy(x), partitions_texture)\n",
    "    ave_rmsenergy_texture = np.mean(rmsenergy_texture)\n",
    "    lowenergy_percentage = np.mean(rmsenergy_analysis<ave_rmsenergy_texture)\n",
    "    return lowenergy_percentage"
   ]
  },
  {
   "cell_type": "code",
   "execution_count": 255,
   "metadata": {
    "collapsed": false
   },
   "outputs": [
    {
     "data": {
      "text/plain": [
       "0.52995391705069128"
      ]
     },
     "execution_count": 255,
     "metadata": {},
     "output_type": "execute_result"
    }
   ],
   "source": [
    "lowenergy_feature(sample, rate, rate*5, rate)"
   ]
  }
 ],
 "metadata": {
  "kernelspec": {
   "display_name": "Python 2",
   "language": "python",
   "name": "python2"
  },
  "language_info": {
   "codemirror_mode": {
    "name": "ipython",
    "version": 2
   },
   "file_extension": ".py",
   "mimetype": "text/x-python",
   "name": "python",
   "nbconvert_exporter": "python",
   "pygments_lexer": "ipython2",
   "version": "2.7.9"
  }
 },
 "nbformat": 4,
 "nbformat_minor": 0
}
